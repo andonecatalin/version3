{
 "cells": [
  {
   "cell_type": "code",
   "execution_count": 1,
   "metadata": {},
   "outputs": [
    {
     "name": "stdout",
     "output_type": "stream",
     "text": [
      "did not download\n"
     ]
    }
   ],
   "source": [
    "import support_functions\n",
    "import polars as pl\n",
    "import torch\n",
    "import data_download\n",
    "from torch.utils.data import DataLoader, TensorDataset"
   ]
  },
  {
   "cell_type": "code",
   "execution_count": 2,
   "metadata": {},
   "outputs": [],
   "source": [
    "def l2_normalize(tensor, dim=0, epsilon=1e-12):\n",
    "            \"\"\"\n",
    "            Applies L2 normalization to a tensor along the specified dimension.\n",
    "\n",
    "            Args:\n",
    "            tensor (torch.Tensor): The input tensor to normalize.\n",
    "            dim (int): The dimension along which to normalize. Default is 0.\n",
    "            epsilon (float): A small value to avoid division by zero. Default is 1e-12.\n",
    "\n",
    "            Returns:\n",
    "            torch.Tensor: The L2-normalized tensor.\n",
    "            \"\"\"\n",
    "            # Calculate the L2 norm along the specified dimension, keeping dimensions\n",
    "            l2_norm = torch.norm(tensor, p=2, dim=dim, keepdim=True)\n",
    "            \n",
    "            # Prevent division by zero by adding a small value epsilon to the norm\n",
    "            l2_norm = torch.clamp(l2_norm, min=epsilon)\n",
    "            \n",
    "            # Divide the tensor by its L2 norm\n",
    "            normalized_tensor = tensor / l2_norm\n",
    "            \n",
    "            return normalized_tensor"
   ]
  },
  {
   "cell_type": "code",
   "execution_count": 3,
   "metadata": {},
   "outputs": [],
   "source": [
    "dbname='ai_dataset'\n",
    "dbuser='postgres'\n",
    "dbpassword='parola'\n",
    "dbport=5432\n",
    "dbhost='127.0.0.1'\n",
    "table_name='tabela'\n",
    "\n",
    "\n",
    "tickers = [\"AAPL\", \"atun.INDX\", 'SPY', 'XAUUSD.OANDA', 'BCO.ICMTRADER','NVDA']\n",
    "for i in range(len(tickers)):\n",
    "    tickers[i]=tickers[i].replace('.','_')\n",
    "net_functions=support_functions.Protected_execution"
   ]
  },
  {
   "cell_type": "code",
   "execution_count": 4,
   "metadata": {},
   "outputs": [],
   "source": [
    "query=net_functions.create_query(tickers[0],table_name)\n",
    "cursor,conn=net_functions.create_cursor(dbname,dbuser,dbpassword,dbport,dbhost)\n",
    "data=pl.read_database(query=query,connection=conn)\n",
    "data=data.drop_nulls()\n"
   ]
  },
  {
   "cell_type": "code",
   "execution_count": 5,
   "metadata": {},
   "outputs": [
    {
     "data": {
      "text/html": [
       "<div><style>\n",
       ".dataframe > thead > tr,\n",
       ".dataframe > tbody > tr {\n",
       "  text-align: right;\n",
       "  white-space: pre-wrap;\n",
       "}\n",
       "</style>\n",
       "<small>shape: (733, 7)</small><table border=\"1\" class=\"dataframe\"><thead><tr><th>aapl_open</th><th>aapl_high</th><th>aapl_low</th><th>aapl_close</th><th>aapl_adj_close</th><th>aapl_volume</th><th>t</th></tr><tr><td>f64</td><td>f64</td><td>f64</td><td>f64</td><td>f64</td><td>f64</td><td>f64</td></tr></thead><tbody><tr><td>177.83</td><td>182.88</td><td>177.71</td><td>179.0766</td><td>179.0766</td><td>1.04487904e8</td><td>1.6412e9</td></tr><tr><td>182.63</td><td>182.94</td><td>179.12</td><td>176.8038</td><td>176.8038</td><td>9.93104e7</td><td>1.6413e9</td></tr><tr><td>179.61</td><td>180.17</td><td>174.64</td><td>172.1009</td><td>172.1009</td><td>9.45376e7</td><td>1.6413e9</td></tr><tr><td>172.7</td><td>175.3</td><td>171.64</td><td>169.2279</td><td>169.2279</td><td>9.6904e7</td><td>1.6414e9</td></tr><tr><td>172.89</td><td>174.14</td><td>171.03</td><td>169.3952</td><td>169.3952</td><td>8.6709104e7</td><td>1.6415e9</td></tr><tr><td>&hellip;</td><td>&hellip;</td><td>&hellip;</td><td>&hellip;</td><td>&hellip;</td><td>&hellip;</td><td>&hellip;</td></tr><tr><td>228.06</td><td>230.72</td><td>228.06</td><td>229.87</td><td>229.87</td><td>3.81683e7</td><td>1.7322e9</td></tr><tr><td>231.46</td><td>233.25</td><td>229.74</td><td>232.87</td><td>232.87</td><td>9.01528e7</td><td>1.7325e9</td></tr><tr><td>233.58</td><td>235.57</td><td>233.33</td><td>235.06</td><td>235.06</td><td>4.59862e7</td><td>1.7326e9</td></tr><tr><td>234.7</td><td>235.69</td><td>233.81</td><td>234.93</td><td>234.93</td><td>3.34984e7</td><td>1.7327e9</td></tr><tr><td>234.955</td><td>237.81</td><td>233.97</td><td>237.33</td><td>237.33</td><td>2.84814e7</td><td>1.7328e9</td></tr></tbody></table></div>"
      ],
      "text/plain": [
       "shape: (733, 7)\n",
       "┌───────────┬───────────┬──────────┬────────────┬────────────────┬──────────────┬──────────┐\n",
       "│ aapl_open ┆ aapl_high ┆ aapl_low ┆ aapl_close ┆ aapl_adj_close ┆ aapl_volume  ┆ t        │\n",
       "│ ---       ┆ ---       ┆ ---      ┆ ---        ┆ ---            ┆ ---          ┆ ---      │\n",
       "│ f64       ┆ f64       ┆ f64      ┆ f64        ┆ f64            ┆ f64          ┆ f64      │\n",
       "╞═══════════╪═══════════╪══════════╪════════════╪════════════════╪══════════════╪══════════╡\n",
       "│ 177.83    ┆ 182.88    ┆ 177.71   ┆ 179.0766   ┆ 179.0766       ┆ 1.04487904e8 ┆ 1.6412e9 │\n",
       "│ 182.63    ┆ 182.94    ┆ 179.12   ┆ 176.8038   ┆ 176.8038       ┆ 9.93104e7    ┆ 1.6413e9 │\n",
       "│ 179.61    ┆ 180.17    ┆ 174.64   ┆ 172.1009   ┆ 172.1009       ┆ 9.45376e7    ┆ 1.6413e9 │\n",
       "│ 172.7     ┆ 175.3     ┆ 171.64   ┆ 169.2279   ┆ 169.2279       ┆ 9.6904e7     ┆ 1.6414e9 │\n",
       "│ 172.89    ┆ 174.14    ┆ 171.03   ┆ 169.3952   ┆ 169.3952       ┆ 8.6709104e7  ┆ 1.6415e9 │\n",
       "│ …         ┆ …         ┆ …        ┆ …          ┆ …              ┆ …            ┆ …        │\n",
       "│ 228.06    ┆ 230.72    ┆ 228.06   ┆ 229.87     ┆ 229.87         ┆ 3.81683e7    ┆ 1.7322e9 │\n",
       "│ 231.46    ┆ 233.25    ┆ 229.74   ┆ 232.87     ┆ 232.87         ┆ 9.01528e7    ┆ 1.7325e9 │\n",
       "│ 233.58    ┆ 235.57    ┆ 233.33   ┆ 235.06     ┆ 235.06         ┆ 4.59862e7    ┆ 1.7326e9 │\n",
       "│ 234.7     ┆ 235.69    ┆ 233.81   ┆ 234.93     ┆ 234.93         ┆ 3.34984e7    ┆ 1.7327e9 │\n",
       "│ 234.955   ┆ 237.81    ┆ 233.97   ┆ 237.33     ┆ 237.33         ┆ 2.84814e7    ┆ 1.7328e9 │\n",
       "└───────────┴───────────┴──────────┴────────────┴────────────────┴──────────────┴──────────┘"
      ]
     },
     "execution_count": 5,
     "metadata": {},
     "output_type": "execute_result"
    }
   ],
   "source": [
    "data"
   ]
  },
  {
   "cell_type": "code",
   "execution_count": 6,
   "metadata": {},
   "outputs": [],
   "source": [
    "time=data['t']"
   ]
  },
  {
   "cell_type": "code",
   "execution_count": 7,
   "metadata": {},
   "outputs": [],
   "source": [
    "from datetime import datetime"
   ]
  },
  {
   "cell_type": "code",
   "execution_count": 8,
   "metadata": {},
   "outputs": [
    {
     "data": {
      "text/html": [
       "<div><style>\n",
       ".dataframe > thead > tr,\n",
       ".dataframe > tbody > tr {\n",
       "  text-align: right;\n",
       "  white-space: pre-wrap;\n",
       "}\n",
       "</style>\n",
       "<small>shape: (733,)</small><table border=\"1\" class=\"dataframe\"><thead><tr><th>t</th></tr><tr><td>datetime[μs]</td></tr></thead><tbody><tr><td>2022-01-03 00:00:00</td></tr><tr><td>2022-01-04 00:00:00</td></tr><tr><td>2022-01-05 00:00:00</td></tr><tr><td>2022-01-06 00:00:00</td></tr><tr><td>2022-01-07 00:00:00</td></tr><tr><td>&hellip;</td></tr><tr><td>2024-11-22 00:00:00</td></tr><tr><td>2024-11-25 00:00:00</td></tr><tr><td>2024-11-26 00:00:00</td></tr><tr><td>2024-11-27 00:00:00</td></tr><tr><td>2024-11-29 00:00:00</td></tr></tbody></table></div>"
      ],
      "text/plain": [
       "shape: (733,)\n",
       "Series: 't' [datetime[μs]]\n",
       "[\n",
       "\t2022-01-03 00:00:00\n",
       "\t2022-01-04 00:00:00\n",
       "\t2022-01-05 00:00:00\n",
       "\t2022-01-06 00:00:00\n",
       "\t2022-01-07 00:00:00\n",
       "\t…\n",
       "\t2024-11-22 00:00:00\n",
       "\t2024-11-25 00:00:00\n",
       "\t2024-11-26 00:00:00\n",
       "\t2024-11-27 00:00:00\n",
       "\t2024-11-29 00:00:00\n",
       "]"
      ]
     },
     "execution_count": 8,
     "metadata": {},
     "output_type": "execute_result"
    }
   ],
   "source": [
    "pl.from_epoch(time, time_unit='s')"
   ]
  },
  {
   "cell_type": "code",
   "execution_count": 9,
   "metadata": {},
   "outputs": [],
   "source": [
    "seconds=pl.from_epoch(time,time_unit=\"s\")"
   ]
  },
  {
   "cell_type": "code",
   "execution_count": 10,
   "metadata": {},
   "outputs": [],
   "source": [
    "date=pl.from_epoch(seconds,time_unit='d')"
   ]
  },
  {
   "cell_type": "code",
   "execution_count": 11,
   "metadata": {},
   "outputs": [
    {
     "data": {
      "text/html": [
       "<div><style>\n",
       ".dataframe > thead > tr,\n",
       ".dataframe > tbody > tr {\n",
       "  text-align: right;\n",
       "  white-space: pre-wrap;\n",
       "}\n",
       "</style>\n",
       "<small>shape: (733,)</small><table border=\"1\" class=\"dataframe\"><thead><tr><th>t</th></tr><tr><td>date</td></tr></thead><tbody><tr><td>2022-01-03</td></tr><tr><td>2022-01-04</td></tr><tr><td>2022-01-05</td></tr><tr><td>2022-01-06</td></tr><tr><td>2022-01-07</td></tr><tr><td>&hellip;</td></tr><tr><td>2024-11-22</td></tr><tr><td>2024-11-25</td></tr><tr><td>2024-11-26</td></tr><tr><td>2024-11-27</td></tr><tr><td>2024-11-29</td></tr></tbody></table></div>"
      ],
      "text/plain": [
       "shape: (733,)\n",
       "Series: 't' [date]\n",
       "[\n",
       "\t2022-01-03\n",
       "\t2022-01-04\n",
       "\t2022-01-05\n",
       "\t2022-01-06\n",
       "\t2022-01-07\n",
       "\t…\n",
       "\t2024-11-22\n",
       "\t2024-11-25\n",
       "\t2024-11-26\n",
       "\t2024-11-27\n",
       "\t2024-11-29\n",
       "]"
      ]
     },
     "execution_count": 11,
     "metadata": {},
     "output_type": "execute_result"
    }
   ],
   "source": [
    "days=date\n",
    "days"
   ]
  },
  {
   "cell_type": "code",
   "execution_count": 12,
   "metadata": {},
   "outputs": [
    {
     "data": {
      "text/plain": [
       "polars.series.series.Series"
      ]
     },
     "execution_count": 12,
     "metadata": {},
     "output_type": "execute_result"
    }
   ],
   "source": [
    "type(days)"
   ]
  },
  {
   "cell_type": "code",
   "execution_count": 13,
   "metadata": {},
   "outputs": [],
   "source": [
    "days=days.rename('date')"
   ]
  },
  {
   "cell_type": "code",
   "execution_count": 14,
   "metadata": {},
   "outputs": [],
   "source": [
    "frame=days.to_frame(days)"
   ]
  },
  {
   "cell_type": "code",
   "execution_count": 15,
   "metadata": {},
   "outputs": [],
   "source": [
    "data=pl.concat([data,frame],how='horizontal')\n"
   ]
  },
  {
   "cell_type": "code",
   "execution_count": 16,
   "metadata": {},
   "outputs": [
    {
     "data": {
      "text/html": [
       "<div><style>\n",
       ".dataframe > thead > tr,\n",
       ".dataframe > tbody > tr {\n",
       "  text-align: right;\n",
       "  white-space: pre-wrap;\n",
       "}\n",
       "</style>\n",
       "<small>shape: (733, 1)</small><table border=\"1\" class=\"dataframe\"><thead><tr><th>date</th></tr><tr><td>date</td></tr></thead><tbody><tr><td>2022-01-03</td></tr><tr><td>2022-01-04</td></tr><tr><td>2022-01-05</td></tr><tr><td>2022-01-06</td></tr><tr><td>2022-01-07</td></tr><tr><td>&hellip;</td></tr><tr><td>2024-11-22</td></tr><tr><td>2024-11-25</td></tr><tr><td>2024-11-26</td></tr><tr><td>2024-11-27</td></tr><tr><td>2024-11-29</td></tr></tbody></table></div>"
      ],
      "text/plain": [
       "shape: (733, 1)\n",
       "┌────────────┐\n",
       "│ date       │\n",
       "│ ---        │\n",
       "│ date       │\n",
       "╞════════════╡\n",
       "│ 2022-01-03 │\n",
       "│ 2022-01-04 │\n",
       "│ 2022-01-05 │\n",
       "│ 2022-01-06 │\n",
       "│ 2022-01-07 │\n",
       "│ …          │\n",
       "│ 2024-11-22 │\n",
       "│ 2024-11-25 │\n",
       "│ 2024-11-26 │\n",
       "│ 2024-11-27 │\n",
       "│ 2024-11-29 │\n",
       "└────────────┘"
      ]
     },
     "execution_count": 16,
     "metadata": {},
     "output_type": "execute_result"
    }
   ],
   "source": [
    "frame "
   ]
  },
  {
   "cell_type": "code",
   "execution_count": 17,
   "metadata": {},
   "outputs": [],
   "source": [
    "#context=['VIX.INDX','SPY']\n",
    "context=['vix_indx','spy']\n",
    "for index in context:\n",
    "    query=net_functions.create_query(index,table_name,add=True)\n",
    "    cont=pl.read_database(query=query,connection=conn)\n",
    "    cont=cont.drop_nulls()\n",
    "    var=cont['t']    \n",
    "    var=pl.from_epoch(var)\n",
    "    var=pl.from_epoch(var,time_unit='d')\n",
    "    var=var.to_frame(var)\n",
    "    cont=cont.drop('t')\n",
    "    cont=pl.concat([cont,var],how='horizontal')\n",
    "    cont=cont.rename({\"t\":\"date\"})\n",
    "    data=data.join(cont,on='date')\n",
    "\n"
   ]
  },
  {
   "cell_type": "code",
   "execution_count": 18,
   "metadata": {},
   "outputs": [
    {
     "data": {
      "text/html": [
       "<div><style>\n",
       ".dataframe > thead > tr,\n",
       ".dataframe > tbody > tr {\n",
       "  text-align: right;\n",
       "  white-space: pre-wrap;\n",
       "}\n",
       "</style>\n",
       "<small>shape: (732, 9)</small><table border=\"1\" class=\"dataframe\"><thead><tr><th>aapl_open</th><th>aapl_high</th><th>aapl_low</th><th>aapl_close</th><th>aapl_adj_close</th><th>aapl_volume</th><th>t</th><th>vix_indx_close</th><th>spy_close</th></tr><tr><td>f64</td><td>f64</td><td>f64</td><td>f64</td><td>f64</td><td>f64</td><td>f64</td><td>f64</td><td>f64</td></tr></thead><tbody><tr><td>177.83</td><td>182.88</td><td>177.71</td><td>179.0766</td><td>179.0766</td><td>1.04487904e8</td><td>1.6412e9</td><td>16.6</td><td>470.0829</td></tr><tr><td>182.63</td><td>182.94</td><td>179.12</td><td>176.8038</td><td>176.8038</td><td>9.93104e7</td><td>1.6413e9</td><td>16.91</td><td>469.9254</td></tr><tr><td>179.61</td><td>180.17</td><td>174.64</td><td>172.1009</td><td>172.1009</td><td>9.45376e7</td><td>1.6413e9</td><td>19.73</td><td>460.9018</td></tr><tr><td>172.7</td><td>175.3</td><td>171.64</td><td>169.2279</td><td>169.2279</td><td>9.6904e7</td><td>1.6414e9</td><td>19.61</td><td>460.4689</td></tr><tr><td>172.89</td><td>174.14</td><td>171.03</td><td>169.3952</td><td>169.3952</td><td>8.6709104e7</td><td>1.6415e9</td><td>18.76</td><td>458.6484</td></tr><tr><td>&hellip;</td><td>&hellip;</td><td>&hellip;</td><td>&hellip;</td><td>&hellip;</td><td>&hellip;</td><td>&hellip;</td><td>&hellip;</td><td>&hellip;</td></tr><tr><td>228.06</td><td>230.72</td><td>228.06</td><td>229.87</td><td>229.87</td><td>3.81683e7</td><td>1.7322e9</td><td>15.24</td><td>595.51</td></tr><tr><td>231.46</td><td>233.25</td><td>229.74</td><td>232.87</td><td>232.87</td><td>9.01528e7</td><td>1.7325e9</td><td>14.6</td><td>597.53</td></tr><tr><td>233.58</td><td>235.57</td><td>233.33</td><td>235.06</td><td>235.06</td><td>4.59862e7</td><td>1.7326e9</td><td>14.1</td><td>600.65</td></tr><tr><td>234.7</td><td>235.69</td><td>233.81</td><td>234.93</td><td>234.93</td><td>3.34984e7</td><td>1.7327e9</td><td>14.1</td><td>598.83</td></tr><tr><td>234.955</td><td>237.81</td><td>233.97</td><td>237.33</td><td>237.33</td><td>2.84814e7</td><td>1.7328e9</td><td>13.51</td><td>602.55</td></tr></tbody></table></div>"
      ],
      "text/plain": [
       "shape: (732, 9)\n",
       "┌───────────┬───────────┬──────────┬────────────┬───┬───────────┬──────────┬───────────┬───────────┐\n",
       "│ aapl_open ┆ aapl_high ┆ aapl_low ┆ aapl_close ┆ … ┆ aapl_volu ┆ t        ┆ vix_indx_ ┆ spy_close │\n",
       "│ ---       ┆ ---       ┆ ---      ┆ ---        ┆   ┆ me        ┆ ---      ┆ close     ┆ ---       │\n",
       "│ f64       ┆ f64       ┆ f64      ┆ f64        ┆   ┆ ---       ┆ f64      ┆ ---       ┆ f64       │\n",
       "│           ┆           ┆          ┆            ┆   ┆ f64       ┆          ┆ f64       ┆           │\n",
       "╞═══════════╪═══════════╪══════════╪════════════╪═══╪═══════════╪══════════╪═══════════╪═══════════╡\n",
       "│ 177.83    ┆ 182.88    ┆ 177.71   ┆ 179.0766   ┆ … ┆ 1.0448790 ┆ 1.6412e9 ┆ 16.6      ┆ 470.0829  │\n",
       "│           ┆           ┆          ┆            ┆   ┆ 4e8       ┆          ┆           ┆           │\n",
       "│ 182.63    ┆ 182.94    ┆ 179.12   ┆ 176.8038   ┆ … ┆ 9.93104e7 ┆ 1.6413e9 ┆ 16.91     ┆ 469.9254  │\n",
       "│ 179.61    ┆ 180.17    ┆ 174.64   ┆ 172.1009   ┆ … ┆ 9.45376e7 ┆ 1.6413e9 ┆ 19.73     ┆ 460.9018  │\n",
       "│ 172.7     ┆ 175.3     ┆ 171.64   ┆ 169.2279   ┆ … ┆ 9.6904e7  ┆ 1.6414e9 ┆ 19.61     ┆ 460.4689  │\n",
       "│ 172.89    ┆ 174.14    ┆ 171.03   ┆ 169.3952   ┆ … ┆ 8.6709104 ┆ 1.6415e9 ┆ 18.76     ┆ 458.6484  │\n",
       "│           ┆           ┆          ┆            ┆   ┆ e7        ┆          ┆           ┆           │\n",
       "│ …         ┆ …         ┆ …        ┆ …          ┆ … ┆ …         ┆ …        ┆ …         ┆ …         │\n",
       "│ 228.06    ┆ 230.72    ┆ 228.06   ┆ 229.87     ┆ … ┆ 3.81683e7 ┆ 1.7322e9 ┆ 15.24     ┆ 595.51    │\n",
       "│ 231.46    ┆ 233.25    ┆ 229.74   ┆ 232.87     ┆ … ┆ 9.01528e7 ┆ 1.7325e9 ┆ 14.6      ┆ 597.53    │\n",
       "│ 233.58    ┆ 235.57    ┆ 233.33   ┆ 235.06     ┆ … ┆ 4.59862e7 ┆ 1.7326e9 ┆ 14.1      ┆ 600.65    │\n",
       "│ 234.7     ┆ 235.69    ┆ 233.81   ┆ 234.93     ┆ … ┆ 3.34984e7 ┆ 1.7327e9 ┆ 14.1      ┆ 598.83    │\n",
       "│ 234.955   ┆ 237.81    ┆ 233.97   ┆ 237.33     ┆ … ┆ 2.84814e7 ┆ 1.7328e9 ┆ 13.51     ┆ 602.55    │\n",
       "└───────────┴───────────┴──────────┴────────────┴───┴───────────┴──────────┴───────────┴───────────┘"
      ]
     },
     "execution_count": 18,
     "metadata": {},
     "output_type": "execute_result"
    }
   ],
   "source": [
    "data=data.drop('date')\n",
    "data=data.drop_nulls()\n",
    "data"
   ]
  },
  {
   "cell_type": "code",
   "execution_count": 19,
   "metadata": {},
   "outputs": [],
   "source": [
    "train_data=data['aapl_close']\n",
    "labels=net_functions.change(train_data)\n",
    "train_data=torch.tensor(train_data)\n",
    "labels=torch.Tensor(labels)\n",
    "train_data=train_data[:-1]\n",
    "batch_size=32\n",
    "shortened_tensor=net_functions.tensor_shortner(train_data, batch_size)\n",
    "image_tensor=net_functions.image_builder(shortened_tensor,batch_size=batch_size)\n",
    "image_tensor=image_tensor[:-1]\n",
    "labels=torch.Tensor(labels)\n",
    "labels=net_functions.tensor_shortner(labels,batch_size)\n",
    "labels=[x+5 for x in labels]\n",
    "labels=torch.tensor(labels,dtype=torch.float32)\n",
    "image_tensor=torch.tensor(image_tensor)\n",
    "image_tensor=net_functions.make_tensor(data,image_tensor,tickers[0])\n",
    "temp_labels=net_functions.image_builder(labels[:-1],32)\n",
    "temp_labels=torch.Tensor(temp_labels)\n",
    "image_tensor=torch.cat((image_tensor,temp_labels),dim=1)\n",
    "labels=labels[batch_size+2:]\n",
    "labels=labels.float()\n",
    "\n",
    "for i in range(len(image_tensor[0].size())):\n",
    "    image_tensor[i]=l2_normalize(image_tensor[i])\n",
    "train_dataset = TensorDataset(image_tensor, labels)\n",
    "train_loader = DataLoader(train_dataset, batch_size=1, shuffle=False)\n"
   ]
  },
  {
   "cell_type": "code",
   "execution_count": null,
   "metadata": {},
   "outputs": [],
   "source": []
  }
 ],
 "metadata": {
  "kernelspec": {
   "display_name": "Python 3",
   "language": "python",
   "name": "python3"
  },
  "language_info": {
   "codemirror_mode": {
    "name": "ipython",
    "version": 3
   },
   "file_extension": ".py",
   "mimetype": "text/x-python",
   "name": "python",
   "nbconvert_exporter": "python",
   "pygments_lexer": "ipython3",
   "version": "3.12.7"
  }
 },
 "nbformat": 4,
 "nbformat_minor": 2
}
